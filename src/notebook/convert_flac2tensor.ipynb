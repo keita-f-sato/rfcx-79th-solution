{
 "cells": [
  {
   "cell_type": "code",
   "execution_count": 1,
   "metadata": {},
   "outputs": [],
   "source": [
    "from glob import glob\n",
    "import librosa\n",
    "import librosa.display\n",
    "import soundfile as sf\n",
    "import numpy as np\n",
    "import pandas as pd\n",
    "import sys\n",
    "import time\n",
    "import datetime\n",
    "from tqdm import tqdm\n",
    "from concurrent import futures\n",
    "\n",
    "import random\n",
    "\n",
    "import torch\n",
    "import torch.nn as nn\n",
    "import sys\n",
    "sys.path.append('..')\n",
    "from libs import transform as tr\n",
    "import warnings\n",
    "warnings.filterwarnings(\"ignore\")"
   ]
  },
  {
   "cell_type": "code",
   "execution_count": 2,
   "metadata": {},
   "outputs": [],
   "source": [
    "train_tp = pd.read_csv('../../data/train_tp.csv')\n",
    "train_fp = pd.read_csv('../../data/train_fp.csv')\n",
    "tp_files = ['../../data/train/'+i+'.flac' for i in train_tp.recording_id]\n",
    "test_files = glob('../../data/test/*.flac')"
   ]
  },
  {
   "cell_type": "code",
   "execution_count": null,
   "metadata": {},
   "outputs": [],
   "source": []
  },
  {
   "cell_type": "code",
   "execution_count": 3,
   "metadata": {},
   "outputs": [],
   "source": [
    "test_data_params = {\n",
    "    'melspectrogram_parameters': {\n",
    "        'n_mels': 128,\n",
    "        'fmin': 20,\n",
    "        'fmax': 24000,\n",
    "    },\n",
    "    'pcen_parameters': {\n",
    "        'gain': 0.98,\n",
    "        'bias': 2,\n",
    "        'power': 0.5,\n",
    "        'time_constant': 0.4,\n",
    "        'eps': 0.000001,\n",
    "    }\n",
    "}"
   ]
  },
  {
   "cell_type": "code",
   "execution_count": 4,
   "metadata": {},
   "outputs": [],
   "source": [
    "def normalize_melspec(X: np.ndarray):\n",
    "    eps = 1e-6\n",
    "    mean = X.mean()\n",
    "    X = X - mean\n",
    "    std = X.std()\n",
    "    Xstd = X / (std + eps)\n",
    "    norm_min, norm_max = Xstd.min(), Xstd.max()\n",
    "    if (norm_max - norm_min) > eps:\n",
    "        V = Xstd\n",
    "        V[V < norm_min] = norm_min\n",
    "        V[V > norm_max] = norm_max\n",
    "        V = 255 * (V - norm_min) / (norm_max - norm_min)\n",
    "        V = V.astype(np.uint8)\n",
    "    else:\n",
    "        # Just zero\n",
    "        V = np.zeros_like(Xstd, dtype=np.uint8)\n",
    "    return V"
   ]
  },
  {
   "cell_type": "code",
   "execution_count": 5,
   "metadata": {},
   "outputs": [],
   "source": [
    "def create_mel(y, sr, fp, tp, params):\n",
    "    img_size = 168\n",
    "    \n",
    "    melspec = librosa.feature.melspectrogram(\n",
    "        y,\n",
    "        sr=sr,\n",
    "        fmin=0,\n",
    "        fmax=15000,\n",
    "        n_mels=128,\n",
    "        n_fft=2048, \n",
    "        hop_length=512,\n",
    "    )\n",
    "    \n",
    "    f, m = melspec.shape\n",
    "    time_rate = m / 60\n",
    "    freq_rate = f / 15000\n",
    "    \n",
    "    tp_f_min = int(tp.iloc[0]['f_min'] * freq_rate)\n",
    "    tp_f_max = int(tp.iloc[0]['f_max'] * freq_rate)\n",
    "    tp_t_min = int(tp.iloc[0]['t_min'] * time_rate)\n",
    "    tp_t_max = int(tp.iloc[0]['t_max'] * time_rate)\n",
    "    \n",
    "    for i in range(len(fp)):\n",
    "        sample = fp.iloc[i]\n",
    "        f_min = int(sample['f_min'] * freq_rate)\n",
    "        f_max = int(sample['f_max'] * freq_rate)\n",
    "        t_min = int(sample['t_min'] * time_rate)\n",
    "        t_max = int(sample['t_max'] * time_rate)\n",
    "        \n",
    "        if tp_f_min < f_min < tp_f_max or tp_f_min < f_max < tp_f_max:\n",
    "            melspec[f_min:f_max, t_min:t_max] = 1e-4\n",
    "        else:\n",
    "            melspec[f_min:f_max, :] = 1e-4\n",
    "        \n",
    "    pcen = librosa.pcen(melspec, sr=sr, **params)\n",
    "    clean_mel = librosa.power_to_db(melspec ** 1.5)\n",
    "    melspec = librosa.power_to_db(melspec)\n",
    "    \n",
    "    norm_melspec = normalize_melspec(melspec)\n",
    "    norm_pcen = normalize_melspec(pcen)\n",
    "    norm_clean_mel = normalize_melspec(clean_mel)\n",
    "    \n",
    "    image = np.stack([norm_melspec, norm_pcen, norm_clean_mel], axis=-1)\n",
    "        \n",
    "    return image"
   ]
  },
  {
   "cell_type": "code",
   "execution_count": 6,
   "metadata": {},
   "outputs": [],
   "source": [
    "params = {\n",
    "    'gain': 0.98,\n",
    "    'bias': 2,\n",
    "    'power': 0.5,\n",
    "    'time_constant': 0.4,\n",
    "    'eps': 0.000001,\n",
    "}\n",
    "\n",
    "\n",
    "def convert_tensor(path):\n",
    "    recording_id = path.split('.flac')[0].split('/')[-1]\n",
    "    \n",
    "    fp = train_fp.query(f'recording_id == \"{recording_id}\"')\n",
    "    tp = train_tp.query(f'recording_id == \"{recording_id}\"')\n",
    "    \n",
    "    y, sr = librosa.load(path, sr=None)\n",
    "    \n",
    "    transform = tr.Compose([\n",
    "        tr.OneOf([\n",
    "            tr.GaussianNoiseSNR(min_snr=10),\n",
    "            tr.PinkNoiseSNR(min_snr=10)\n",
    "        ]),\n",
    "        #tr.PitchShift(max_steps=2, sr=sr),\n",
    "        #tr.TimeStretch(),\n",
    "        #tr.TimeShift(sr=sr),\n",
    "        tr.VolumeControl(mode=\"sine\")\n",
    "    ])\n",
    "    \n",
    "    y = transform(y)\n",
    "    \n",
    "    mel = create_mel(y, sr, fp, tp, params)\n",
    "    \n",
    "    torch.save(mel, path.replace('/train/', '/train_noise_v2/').replace('.flac', '.tensor'))\n",
    "    \n",
    "def convert_freq(path, target='train'):\n",
    "    new_path = path.replace(f\"/{target}/\", f\"/{target}_32000/\")\n",
    "    y, orig_sr = sf.read(path)\n",
    "    y = librosa.resample(y, orig_sr=orig_sr, target_sr=32000, res_type=\"kaiser_best\")\n",
    "    sf.write(new_path, y, 32000)"
   ]
  },
  {
   "cell_type": "code",
   "execution_count": 7,
   "metadata": {},
   "outputs": [
    {
     "name": "stdout",
     "output_type": "stream",
     "text": [
      "1216/1216"
     ]
    }
   ],
   "source": [
    "with futures.ProcessPoolExecutor(max_workers=15) as executor:\n",
    "    c = 0\n",
    "    for f in executor.map(convert_freq, tp_files):\n",
    "        c += 1\n",
    "        print(f'\\r{c}/{len(train_tp)}', end='')"
   ]
  },
  {
   "cell_type": "code",
   "execution_count": 7,
   "metadata": {},
   "outputs": [
    {
     "name": "stdout",
     "output_type": "stream",
     "text": [
      "1992/1992"
     ]
    }
   ],
   "source": [
    "transform = tr.Compose([\n",
    "        #tr.OneOf([\n",
    "        #    tr.GaussianNoiseSNR(min_snr=5),\n",
    "        #    tr.PinkNoiseSNR(min_snr=5)\n",
    "        #]),\n",
    "        tr.PitchShift(max_steps=2, sr=48000),\n",
    "        #tr.TimeStretch(),\n",
    "        #tr.TimeShift(sr=sr),\n",
    "        tr.VolumeControl(mode=\"sine\")\n",
    "    ])\n",
    "\n",
    "def convert_freq(path, target='test'):\n",
    "    for i in range(3):\n",
    "        new_path = path.replace(f\"/{target}/\", f\"/test_tta/tta_{i}/\")\n",
    "        y, orig_sr = sf.read(path)\n",
    "        \n",
    "        y = transform(y)\n",
    "\n",
    "        sf.write(new_path, y, orig_sr)\n",
    "\n",
    "with futures.ProcessPoolExecutor(max_workers=15) as executor:\n",
    "    c = 0\n",
    "    for f in executor.map(convert_freq, test_files):\n",
    "        c += 1\n",
    "        print(f'\\r{c}/{len(test_files)}', end='')"
   ]
  },
  {
   "cell_type": "code",
   "execution_count": null,
   "metadata": {},
   "outputs": [],
   "source": [
    "def create_test_mel(y, sr, params):\n",
    "    img_size = 168\n",
    "    \n",
    "    melspec = librosa.feature.melspectrogram(\n",
    "        y,\n",
    "        sr=sr,\n",
    "        fmin=0,\n",
    "        fmax=15000,\n",
    "        n_mels=128\n",
    "    )\n",
    "    \n",
    "    pcen = librosa.pcen(melspec, sr=sr, **params)\n",
    "    clean_mel = librosa.power_to_db(melspec ** 1.5)\n",
    "    melspec = librosa.power_to_db(melspec)\n",
    "    \n",
    "    norm_melspec = normalize_melspec(melspec)\n",
    "    norm_pcen = normalize_melspec(pcen)\n",
    "    norm_clean_mel = normalize_melspec(clean_mel)\n",
    "    \n",
    "    image = np.stack([norm_melspec, norm_pcen, norm_clean_mel], axis=-1)\n",
    "    return image"
   ]
  },
  {
   "cell_type": "code",
   "execution_count": 9,
   "metadata": {},
   "outputs": [],
   "source": [
    "params = {\n",
    "    'gain': 0.98,\n",
    "    'bias': 2,\n",
    "    'power': 0.5,\n",
    "    'time_constant': 0.4,\n",
    "    'eps': 0.000001,\n",
    "}\n",
    "\n",
    "def convert_test_tensor(path):\n",
    "    recording_id = path.split('.flac')[0].split('/')[-1]\n",
    "    \n",
    "    y, sr = librosa.load(path, sr=None)\n",
    "    \n",
    "    mel = create_test_mel(y, sr, params)\n",
    "    \n",
    "    torch.save(mel, path.replace('/test/', '/test_wo_fp/').replace('.flac', '.tensor'))"
   ]
  },
  {
   "cell_type": "code",
   "execution_count": 10,
   "metadata": {},
   "outputs": [
    {
     "name": "stdout",
     "output_type": "stream",
     "text": [
      "1992/1992"
     ]
    }
   ],
   "source": [
    "with futures.ProcessPoolExecutor(max_workers=15) as executor:\n",
    "    c = 0\n",
    "    for f in executor.map(convert_test_tensor, test_files):\n",
    "        c += 1\n",
    "        print(f'\\r{c}/{len(test_files)}', end='')"
   ]
  },
  {
   "cell_type": "code",
   "execution_count": null,
   "metadata": {},
   "outputs": [],
   "source": []
  },
  {
   "cell_type": "code",
   "execution_count": null,
   "metadata": {},
   "outputs": [],
   "source": []
  },
  {
   "cell_type": "code",
   "execution_count": null,
   "metadata": {},
   "outputs": [],
   "source": []
  },
  {
   "cell_type": "code",
   "execution_count": null,
   "metadata": {},
   "outputs": [],
   "source": []
  },
  {
   "cell_type": "code",
   "execution_count": null,
   "metadata": {},
   "outputs": [],
   "source": []
  },
  {
   "cell_type": "code",
   "execution_count": null,
   "metadata": {},
   "outputs": [],
   "source": []
  },
  {
   "cell_type": "raw",
   "metadata": {},
   "source": [
    "srs = []\n",
    "for f in tqdm(tp_files):\n",
    "    y, sr = librosa.load(f)\n",
    "    melspec = librosa.power_to_db(librosa.feature.melspectrogram(y, sr=sr, n_mels=128))\n",
    "    torch.save(torch.tensor(melspec), f.replace('/train/', '/train_tp_torch/').replace('.flac', '.tensor'))"
   ]
  },
  {
   "cell_type": "code",
   "execution_count": 11,
   "metadata": {},
   "outputs": [
    {
     "data": {
      "text/plain": [
       "(128, 938, 3)"
      ]
     },
     "execution_count": 11,
     "metadata": {},
     "output_type": "execute_result"
    }
   ],
   "source": [
    "y, sr = librosa.load(tp_files[0], sr=None)\n",
    "melspec = librosa.feature.melspectrogram(y[0:sr*10], sr=sr, **test_data_params['melspectrogram_parameters'])\n",
    "pcen = librosa.pcen(melspec, sr=sr, **test_data_params['pcen_parameters'])\n",
    "clean_mel = librosa.power_to_db(melspec ** 1.5)\n",
    "melspec = librosa.power_to_db(melspec)\n",
    "        \n",
    "norm_melspec = normalize_melspec(melspec)\n",
    "norm_pcen = normalize_melspec(pcen)\n",
    "norm_clean_mel = normalize_melspec(clean_mel)\n",
    "image = np.stack([norm_melspec, norm_pcen, norm_clean_mel], axis=-1)\n",
    "        \n",
    "image.shape"
   ]
  },
  {
   "cell_type": "code",
   "execution_count": 12,
   "metadata": {},
   "outputs": [
    {
     "data": {
      "text/plain": [
       "torch.Size([128, 938])"
      ]
     },
     "execution_count": 12,
     "metadata": {},
     "output_type": "execute_result"
    }
   ],
   "source": [
    "torch.tensor(melspec).size()"
   ]
  },
  {
   "cell_type": "code",
   "execution_count": 13,
   "metadata": {},
   "outputs": [
    {
     "data": {
      "text/plain": [
       "50.666666666666664"
      ]
     },
     "execution_count": 13,
     "metadata": {},
     "output_type": "execute_result"
    }
   ],
   "source": [
    "1216 / 24"
   ]
  },
  {
   "cell_type": "code",
   "execution_count": 14,
   "metadata": {},
   "outputs": [
    {
     "data": {
      "text/html": [
       "<div>\n",
       "<style scoped>\n",
       "    .dataframe tbody tr th:only-of-type {\n",
       "        vertical-align: middle;\n",
       "    }\n",
       "\n",
       "    .dataframe tbody tr th {\n",
       "        vertical-align: top;\n",
       "    }\n",
       "\n",
       "    .dataframe thead th {\n",
       "        text-align: right;\n",
       "    }\n",
       "</style>\n",
       "<table border=\"1\" class=\"dataframe\">\n",
       "  <thead>\n",
       "    <tr style=\"text-align: right;\">\n",
       "      <th></th>\n",
       "      <th>recording_id</th>\n",
       "      <th>species_id</th>\n",
       "      <th>songtype_id</th>\n",
       "      <th>t_min</th>\n",
       "      <th>f_min</th>\n",
       "      <th>t_max</th>\n",
       "      <th>f_max</th>\n",
       "      <th>is_nocall</th>\n",
       "    </tr>\n",
       "  </thead>\n",
       "  <tbody>\n",
       "    <tr>\n",
       "      <th>0</th>\n",
       "      <td>003bec244</td>\n",
       "      <td>14</td>\n",
       "      <td>1</td>\n",
       "      <td>44.5440</td>\n",
       "      <td>2531.250</td>\n",
       "      <td>45.1307</td>\n",
       "      <td>5531.25</td>\n",
       "      <td>False</td>\n",
       "    </tr>\n",
       "    <tr>\n",
       "      <th>1</th>\n",
       "      <td>006ab765f</td>\n",
       "      <td>23</td>\n",
       "      <td>1</td>\n",
       "      <td>39.9615</td>\n",
       "      <td>7235.160</td>\n",
       "      <td>46.0452</td>\n",
       "      <td>11283.40</td>\n",
       "      <td>False</td>\n",
       "    </tr>\n",
       "    <tr>\n",
       "      <th>2</th>\n",
       "      <td>007f87ba2</td>\n",
       "      <td>12</td>\n",
       "      <td>1</td>\n",
       "      <td>39.1360</td>\n",
       "      <td>562.500</td>\n",
       "      <td>42.2720</td>\n",
       "      <td>3281.25</td>\n",
       "      <td>False</td>\n",
       "    </tr>\n",
       "    <tr>\n",
       "      <th>3</th>\n",
       "      <td>0099c367b</td>\n",
       "      <td>17</td>\n",
       "      <td>4</td>\n",
       "      <td>51.4206</td>\n",
       "      <td>1464.260</td>\n",
       "      <td>55.1996</td>\n",
       "      <td>4565.04</td>\n",
       "      <td>False</td>\n",
       "    </tr>\n",
       "    <tr>\n",
       "      <th>4</th>\n",
       "      <td>009b760e6</td>\n",
       "      <td>10</td>\n",
       "      <td>1</td>\n",
       "      <td>50.0854</td>\n",
       "      <td>947.461</td>\n",
       "      <td>52.5293</td>\n",
       "      <td>10852.70</td>\n",
       "      <td>False</td>\n",
       "    </tr>\n",
       "    <tr>\n",
       "      <th>...</th>\n",
       "      <td>...</td>\n",
       "      <td>...</td>\n",
       "      <td>...</td>\n",
       "      <td>...</td>\n",
       "      <td>...</td>\n",
       "      <td>...</td>\n",
       "      <td>...</td>\n",
       "      <td>...</td>\n",
       "    </tr>\n",
       "    <tr>\n",
       "      <th>1211</th>\n",
       "      <td>fe8d9ac40</td>\n",
       "      <td>13</td>\n",
       "      <td>1</td>\n",
       "      <td>53.4720</td>\n",
       "      <td>93.750</td>\n",
       "      <td>54.0960</td>\n",
       "      <td>843.75</td>\n",
       "      <td>False</td>\n",
       "    </tr>\n",
       "    <tr>\n",
       "      <th>1212</th>\n",
       "      <td>fea6b438a</td>\n",
       "      <td>4</td>\n",
       "      <td>1</td>\n",
       "      <td>43.5787</td>\n",
       "      <td>2531.250</td>\n",
       "      <td>45.7653</td>\n",
       "      <td>4031.25</td>\n",
       "      <td>False</td>\n",
       "    </tr>\n",
       "    <tr>\n",
       "      <th>1213</th>\n",
       "      <td>ff2eb9ce5</td>\n",
       "      <td>0</td>\n",
       "      <td>1</td>\n",
       "      <td>15.2267</td>\n",
       "      <td>5906.250</td>\n",
       "      <td>16.0213</td>\n",
       "      <td>8250.00</td>\n",
       "      <td>False</td>\n",
       "    </tr>\n",
       "    <tr>\n",
       "      <th>1214</th>\n",
       "      <td>ffb8d8391</td>\n",
       "      <td>5</td>\n",
       "      <td>1</td>\n",
       "      <td>14.3467</td>\n",
       "      <td>4781.250</td>\n",
       "      <td>16.6987</td>\n",
       "      <td>10406.20</td>\n",
       "      <td>False</td>\n",
       "    </tr>\n",
       "    <tr>\n",
       "      <th>1215</th>\n",
       "      <td>ffb9a7b9a</td>\n",
       "      <td>18</td>\n",
       "      <td>1</td>\n",
       "      <td>40.3200</td>\n",
       "      <td>3187.500</td>\n",
       "      <td>41.0133</td>\n",
       "      <td>5062.50</td>\n",
       "      <td>False</td>\n",
       "    </tr>\n",
       "  </tbody>\n",
       "</table>\n",
       "<p>1216 rows × 8 columns</p>\n",
       "</div>"
      ],
      "text/plain": [
       "     recording_id  species_id  songtype_id    t_min     f_min    t_max  \\\n",
       "0       003bec244          14            1  44.5440  2531.250  45.1307   \n",
       "1       006ab765f          23            1  39.9615  7235.160  46.0452   \n",
       "2       007f87ba2          12            1  39.1360   562.500  42.2720   \n",
       "3       0099c367b          17            4  51.4206  1464.260  55.1996   \n",
       "4       009b760e6          10            1  50.0854   947.461  52.5293   \n",
       "...           ...         ...          ...      ...       ...      ...   \n",
       "1211    fe8d9ac40          13            1  53.4720    93.750  54.0960   \n",
       "1212    fea6b438a           4            1  43.5787  2531.250  45.7653   \n",
       "1213    ff2eb9ce5           0            1  15.2267  5906.250  16.0213   \n",
       "1214    ffb8d8391           5            1  14.3467  4781.250  16.6987   \n",
       "1215    ffb9a7b9a          18            1  40.3200  3187.500  41.0133   \n",
       "\n",
       "         f_max  is_nocall  \n",
       "0      5531.25      False  \n",
       "1     11283.40      False  \n",
       "2      3281.25      False  \n",
       "3      4565.04      False  \n",
       "4     10852.70      False  \n",
       "...        ...        ...  \n",
       "1211    843.75      False  \n",
       "1212   4031.25      False  \n",
       "1213   8250.00      False  \n",
       "1214  10406.20      False  \n",
       "1215   5062.50      False  \n",
       "\n",
       "[1216 rows x 8 columns]"
      ]
     },
     "execution_count": 14,
     "metadata": {},
     "output_type": "execute_result"
    }
   ],
   "source": [
    "train_tp['is_nocall'] = False\n",
    "train_tp#['f_max'].hist()"
   ]
  },
  {
   "cell_type": "code",
   "execution_count": 15,
   "metadata": {},
   "outputs": [],
   "source": [
    "no_call = train_tp.sample(frac=0.04)\n",
    "no_call['is_nocall'] = True\n",
    "no_call['species_id'] = 24\n",
    "pd.concat([train_tp, no_call]).to_csv('add_no_call.csv')"
   ]
  },
  {
   "cell_type": "code",
   "execution_count": 16,
   "metadata": {},
   "outputs": [
    {
     "ename": "KeyError",
     "evalue": "\"['is_none'] not found in axis\"",
     "output_type": "error",
     "traceback": [
      "\u001b[0;31m---------------------------------------------------------------------------\u001b[0m",
      "\u001b[0;31mKeyError\u001b[0m                                  Traceback (most recent call last)",
      "\u001b[0;32m<ipython-input-16-5a6c8ebcf6bc>\u001b[0m in \u001b[0;36m<module>\u001b[0;34m\u001b[0m\n\u001b[0;32m----> 1\u001b[0;31m \u001b[0mtrain_tp\u001b[0m \u001b[0;34m=\u001b[0m \u001b[0mtrain_tp\u001b[0m\u001b[0;34m.\u001b[0m\u001b[0mdrop\u001b[0m\u001b[0;34m(\u001b[0m\u001b[0;34m[\u001b[0m\u001b[0;34m'is_none'\u001b[0m\u001b[0;34m]\u001b[0m\u001b[0;34m,\u001b[0m \u001b[0maxis\u001b[0m\u001b[0;34m=\u001b[0m\u001b[0;36m1\u001b[0m\u001b[0;34m)\u001b[0m\u001b[0;34m\u001b[0m\u001b[0;34m\u001b[0m\u001b[0m\n\u001b[0m",
      "\u001b[0;32m~/anaconda3/lib/python3.8/site-packages/pandas/core/frame.py\u001b[0m in \u001b[0;36mdrop\u001b[0;34m(self, labels, axis, index, columns, level, inplace, errors)\u001b[0m\n\u001b[1;32m   4161\u001b[0m                 \u001b[0mweight\u001b[0m  \u001b[0;36m1.0\u001b[0m     \u001b[0;36m0.8\u001b[0m\u001b[0;34m\u001b[0m\u001b[0;34m\u001b[0m\u001b[0m\n\u001b[1;32m   4162\u001b[0m         \"\"\"\n\u001b[0;32m-> 4163\u001b[0;31m         return super().drop(\n\u001b[0m\u001b[1;32m   4164\u001b[0m             \u001b[0mlabels\u001b[0m\u001b[0;34m=\u001b[0m\u001b[0mlabels\u001b[0m\u001b[0;34m,\u001b[0m\u001b[0;34m\u001b[0m\u001b[0;34m\u001b[0m\u001b[0m\n\u001b[1;32m   4165\u001b[0m             \u001b[0maxis\u001b[0m\u001b[0;34m=\u001b[0m\u001b[0maxis\u001b[0m\u001b[0;34m,\u001b[0m\u001b[0;34m\u001b[0m\u001b[0;34m\u001b[0m\u001b[0m\n",
      "\u001b[0;32m~/anaconda3/lib/python3.8/site-packages/pandas/core/generic.py\u001b[0m in \u001b[0;36mdrop\u001b[0;34m(self, labels, axis, index, columns, level, inplace, errors)\u001b[0m\n\u001b[1;32m   3885\u001b[0m         \u001b[0;32mfor\u001b[0m \u001b[0maxis\u001b[0m\u001b[0;34m,\u001b[0m \u001b[0mlabels\u001b[0m \u001b[0;32min\u001b[0m \u001b[0maxes\u001b[0m\u001b[0;34m.\u001b[0m\u001b[0mitems\u001b[0m\u001b[0;34m(\u001b[0m\u001b[0;34m)\u001b[0m\u001b[0;34m:\u001b[0m\u001b[0;34m\u001b[0m\u001b[0;34m\u001b[0m\u001b[0m\n\u001b[1;32m   3886\u001b[0m             \u001b[0;32mif\u001b[0m \u001b[0mlabels\u001b[0m \u001b[0;32mis\u001b[0m \u001b[0;32mnot\u001b[0m \u001b[0;32mNone\u001b[0m\u001b[0;34m:\u001b[0m\u001b[0;34m\u001b[0m\u001b[0;34m\u001b[0m\u001b[0m\n\u001b[0;32m-> 3887\u001b[0;31m                 \u001b[0mobj\u001b[0m \u001b[0;34m=\u001b[0m \u001b[0mobj\u001b[0m\u001b[0;34m.\u001b[0m\u001b[0m_drop_axis\u001b[0m\u001b[0;34m(\u001b[0m\u001b[0mlabels\u001b[0m\u001b[0;34m,\u001b[0m \u001b[0maxis\u001b[0m\u001b[0;34m,\u001b[0m \u001b[0mlevel\u001b[0m\u001b[0;34m=\u001b[0m\u001b[0mlevel\u001b[0m\u001b[0;34m,\u001b[0m \u001b[0merrors\u001b[0m\u001b[0;34m=\u001b[0m\u001b[0merrors\u001b[0m\u001b[0;34m)\u001b[0m\u001b[0;34m\u001b[0m\u001b[0;34m\u001b[0m\u001b[0m\n\u001b[0m\u001b[1;32m   3888\u001b[0m \u001b[0;34m\u001b[0m\u001b[0m\n\u001b[1;32m   3889\u001b[0m         \u001b[0;32mif\u001b[0m \u001b[0minplace\u001b[0m\u001b[0;34m:\u001b[0m\u001b[0;34m\u001b[0m\u001b[0;34m\u001b[0m\u001b[0m\n",
      "\u001b[0;32m~/anaconda3/lib/python3.8/site-packages/pandas/core/generic.py\u001b[0m in \u001b[0;36m_drop_axis\u001b[0;34m(self, labels, axis, level, errors)\u001b[0m\n\u001b[1;32m   3919\u001b[0m                 \u001b[0mnew_axis\u001b[0m \u001b[0;34m=\u001b[0m \u001b[0maxis\u001b[0m\u001b[0;34m.\u001b[0m\u001b[0mdrop\u001b[0m\u001b[0;34m(\u001b[0m\u001b[0mlabels\u001b[0m\u001b[0;34m,\u001b[0m \u001b[0mlevel\u001b[0m\u001b[0;34m=\u001b[0m\u001b[0mlevel\u001b[0m\u001b[0;34m,\u001b[0m \u001b[0merrors\u001b[0m\u001b[0;34m=\u001b[0m\u001b[0merrors\u001b[0m\u001b[0;34m)\u001b[0m\u001b[0;34m\u001b[0m\u001b[0;34m\u001b[0m\u001b[0m\n\u001b[1;32m   3920\u001b[0m             \u001b[0;32melse\u001b[0m\u001b[0;34m:\u001b[0m\u001b[0;34m\u001b[0m\u001b[0;34m\u001b[0m\u001b[0m\n\u001b[0;32m-> 3921\u001b[0;31m                 \u001b[0mnew_axis\u001b[0m \u001b[0;34m=\u001b[0m \u001b[0maxis\u001b[0m\u001b[0;34m.\u001b[0m\u001b[0mdrop\u001b[0m\u001b[0;34m(\u001b[0m\u001b[0mlabels\u001b[0m\u001b[0;34m,\u001b[0m \u001b[0merrors\u001b[0m\u001b[0;34m=\u001b[0m\u001b[0merrors\u001b[0m\u001b[0;34m)\u001b[0m\u001b[0;34m\u001b[0m\u001b[0;34m\u001b[0m\u001b[0m\n\u001b[0m\u001b[1;32m   3922\u001b[0m             \u001b[0mresult\u001b[0m \u001b[0;34m=\u001b[0m \u001b[0mself\u001b[0m\u001b[0;34m.\u001b[0m\u001b[0mreindex\u001b[0m\u001b[0;34m(\u001b[0m\u001b[0;34m**\u001b[0m\u001b[0;34m{\u001b[0m\u001b[0maxis_name\u001b[0m\u001b[0;34m:\u001b[0m \u001b[0mnew_axis\u001b[0m\u001b[0;34m}\u001b[0m\u001b[0;34m)\u001b[0m\u001b[0;34m\u001b[0m\u001b[0;34m\u001b[0m\u001b[0m\n\u001b[1;32m   3923\u001b[0m \u001b[0;34m\u001b[0m\u001b[0m\n",
      "\u001b[0;32m~/anaconda3/lib/python3.8/site-packages/pandas/core/indexes/base.py\u001b[0m in \u001b[0;36mdrop\u001b[0;34m(self, labels, errors)\u001b[0m\n\u001b[1;32m   5280\u001b[0m         \u001b[0;32mif\u001b[0m \u001b[0mmask\u001b[0m\u001b[0;34m.\u001b[0m\u001b[0many\u001b[0m\u001b[0;34m(\u001b[0m\u001b[0;34m)\u001b[0m\u001b[0;34m:\u001b[0m\u001b[0;34m\u001b[0m\u001b[0;34m\u001b[0m\u001b[0m\n\u001b[1;32m   5281\u001b[0m             \u001b[0;32mif\u001b[0m \u001b[0merrors\u001b[0m \u001b[0;34m!=\u001b[0m \u001b[0;34m\"ignore\"\u001b[0m\u001b[0;34m:\u001b[0m\u001b[0;34m\u001b[0m\u001b[0;34m\u001b[0m\u001b[0m\n\u001b[0;32m-> 5282\u001b[0;31m                 \u001b[0;32mraise\u001b[0m \u001b[0mKeyError\u001b[0m\u001b[0;34m(\u001b[0m\u001b[0;34mf\"{labels[mask]} not found in axis\"\u001b[0m\u001b[0;34m)\u001b[0m\u001b[0;34m\u001b[0m\u001b[0;34m\u001b[0m\u001b[0m\n\u001b[0m\u001b[1;32m   5283\u001b[0m             \u001b[0mindexer\u001b[0m \u001b[0;34m=\u001b[0m \u001b[0mindexer\u001b[0m\u001b[0;34m[\u001b[0m\u001b[0;34m~\u001b[0m\u001b[0mmask\u001b[0m\u001b[0;34m]\u001b[0m\u001b[0;34m\u001b[0m\u001b[0;34m\u001b[0m\u001b[0m\n\u001b[1;32m   5284\u001b[0m         \u001b[0;32mreturn\u001b[0m \u001b[0mself\u001b[0m\u001b[0;34m.\u001b[0m\u001b[0mdelete\u001b[0m\u001b[0;34m(\u001b[0m\u001b[0mindexer\u001b[0m\u001b[0;34m)\u001b[0m\u001b[0;34m\u001b[0m\u001b[0;34m\u001b[0m\u001b[0m\n",
      "\u001b[0;31mKeyError\u001b[0m: \"['is_none'] not found in axis\""
     ]
    }
   ],
   "source": [
    "train_tp = train_tp.drop(['is_none'], axis=1)"
   ]
  },
  {
   "cell_type": "code",
   "execution_count": null,
   "metadata": {},
   "outputs": [],
   "source": [
    "def get_10sec(path, t_min, t_max):\n",
    "    y, sr = librosa.load(path, sr=None)\n",
    "    \n",
    "    annotated_duration = t_max - t_min\n",
    "        \n",
    "    if annotated_duration > 10:\n",
    "        limit_sec = t_max - 10\n",
    "        start_sec = random.randint(t_min, limit_sec)\n",
    "        end_sec = start_sec + 10\n",
    "            \n",
    "        start = start_sec * sr\n",
    "        end = end_sec * sr\n",
    "    else:\n",
    "        res_time = 10 - annotated_duration\n",
    "        front_limit = res_time if res_time < t_min else t_min\n",
    "        \n",
    "        front_time = random.randint(0, front_limit)\n",
    "            \n",
    "        back_limit = 60 - t_max\n",
    "        \n",
    "        tmp_time = res_time - front_time\n",
    "        back_time = tmp_time if tmp_time < back_limit else back_limit\n",
    "        \n",
    "        if not tmp_time < back_limit:\n",
    "            front_time += tmp_time - back_limit\n",
    "            \n",
    "        start = (t_min - front_time) * sr\n",
    "        end = (t_max + back_time) * sr\n",
    "        \n",
    "    return end - start\n",
    "        \n",
    "for i in range(len(train_tp)):\n",
    "    df = train_tp.iloc[i,:]\n",
    "    path = '../../data/train/'+ df['recording_id'] + '.flac'\n",
    "    t_min = int(round(df['t_min']))\n",
    "    t_max = int(round(df['t_max']))\n",
    "    \n",
    "    print(t_min, t_max)\n",
    "    \n",
    "    print(get_10sec(path, t_min, t_max))"
   ]
  },
  {
   "cell_type": "code",
   "execution_count": null,
   "metadata": {},
   "outputs": [],
   "source": [
    "import torch\n",
    "a = torch.tensor([\n",
    "    [\n",
    "        [1,2,3]\n",
    "    ],\n",
    "    [\n",
    "        [1,2,3]\n",
    "    ],\n",
    "    [\n",
    "        [1,2,3]\n",
    "    ]\n",
    "])"
   ]
  },
  {
   "cell_type": "code",
   "execution_count": null,
   "metadata": {},
   "outputs": [],
   "source": [
    "a.size()"
   ]
  },
  {
   "cell_type": "code",
   "execution_count": null,
   "metadata": {},
   "outputs": [],
   "source": [
    "import numpy as np\n",
    "mixup_alpha = 0.2\n",
    "random_state = np.random.RandomState(123)\n",
    "\n",
    "for i in range(10):\n",
    "    print(random_state.beta(mixup_alpha, mixup_alpha, 1)[0])"
   ]
  },
  {
   "cell_type": "code",
   "execution_count": null,
   "metadata": {},
   "outputs": [],
   "source": []
  },
  {
   "cell_type": "code",
   "execution_count": null,
   "metadata": {},
   "outputs": [],
   "source": [
    "a = list(range(64))\n",
    "random.shuffle(a)"
   ]
  },
  {
   "cell_type": "code",
   "execution_count": null,
   "metadata": {},
   "outputs": [],
   "source": []
  },
  {
   "cell_type": "code",
   "execution_count": null,
   "metadata": {},
   "outputs": [],
   "source": []
  }
 ],
 "metadata": {
  "kernelspec": {
   "display_name": "Python 3",
   "language": "python",
   "name": "python3"
  },
  "language_info": {
   "codemirror_mode": {
    "name": "ipython",
    "version": 3
   },
   "file_extension": ".py",
   "mimetype": "text/x-python",
   "name": "python",
   "nbconvert_exporter": "python",
   "pygments_lexer": "ipython3",
   "version": "3.8.5"
  }
 },
 "nbformat": 4,
 "nbformat_minor": 4
}
